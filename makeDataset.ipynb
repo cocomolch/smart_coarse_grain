{
 "cells": [
  {
   "cell_type": "code",
   "execution_count": null,
   "id": "4cf56c7c",
   "metadata": {},
   "outputs": [],
   "source": [
    "import sys\n",
    "sys.path.insert(0, \"C:\\\\Users\\\\pgott\\\\Desktop\\\\Coding\\\\smart_coarse_grain\\\\utils\")\n",
    "import cv2 as cv\n",
    "import os\n",
    "from pathlib import Path\n",
    "import sys\n",
    "from structure_tensor import smart_structure_tensor\n",
    "import torch\n",
    "import numpy as np\n",
    "import matplotlib.pyplot as plt\n",
    "import tifffile\n",
    "baseDir = r\"O:/Data upscale train/Raw data/validate/\"\n",
    "\n",
    "groundTruthDir = r\"O:/Data upscale train/Dataset/validate/target/\"\n",
    "if not os.path.exists(groundTruthDir):\n",
    "    os.mkdir(groundTruthDir)\n",
    "\n",
    "inputDir = r\"O:/Data upscale train/Dataset/validate/input/\"\n",
    "if not os.path.exists(inputDir):\n",
    "    os.mkdir(inputDir)\n",
    "\n",
    "for coarseGrainingLength in [4, 8, 16]: #train one model\n",
    "    for file in os.listdir(baseDir):\n",
    "        img = cv.imread(baseDir + file)\n",
    "        if np.max(img.shape) < 2500: # to fit in GPU memory\n",
    "            img = np.mean(img, axis=2)\n",
    "            img_tensor = torch.from_numpy(img)\n",
    "            img_tensor = img_tensor.float()\n",
    "            theta = smart_structure_tensor(\n",
    "            img_tensor.unsqueeze(0).unsqueeze(0),\n",
    "            coarseGrainAverage=\"gaussian\",\n",
    "            coarseGrainingLength=coarseGrainingLength,\n",
    "            downsample=1,)\n",
    "            stride = int(coarseGrainingLength/2)\n",
    "            if not os.path.exists(groundTruthDir + \"_upscaleFactor\" + str(stride) + \"/\"):\n",
    "                os.mkdir(groundTruthDir + \"_upscaleFactor\" + str(stride) + \"/\")\n",
    "            \n",
    "\n",
    "            if not os.path.exists(inputDir + \"_upscaleFactor\" + str(stride) + \"/\"):\n",
    "                os.mkdir(inputDir + \"_upscaleFactor\" + str(stride) + \"/\")\n",
    "                \n",
    "                tifffile.imwrite(groundTruthDir + \"_upscaleFactor\" + str(stride) + \"/\" + file, theta.numpy())\n",
    "                tifffile.imwrite(inputDir + \"_upscaleFactor\" + str(stride) + \"/\" + file, theta[::stride, ::stride].numpy())\n"
   ]
  },
  {
   "cell_type": "code",
   "execution_count": 26,
   "id": "13a77836",
   "metadata": {},
   "outputs": [
    {
     "name": "stdout",
     "output_type": "stream",
     "text": [
      "False\n",
      "torch.Size([1347, 2244])\n",
      "torch.Size([169, 281])\n",
      "8\n"
     ]
    }
   ],
   "source": [
    "print(theta.shape*2 == theta[::stride, ::stride].shape)\n",
    "\n",
    "print(theta.shape)\n",
    "print(theta[::stride, ::stride].shape)\n",
    "\n",
    "print(stride)"
   ]
  },
  {
   "cell_type": "code",
   "execution_count": 27,
   "id": "fbb91181",
   "metadata": {},
   "outputs": [
    {
     "data": {
      "text/plain": [
       "(array([[1.000e+00, 0.000e+00, 0.000e+00, ..., 5.000e+00, 2.200e+01,\n",
       "         4.910e+03],\n",
       "        [1.320e+02, 2.270e+02, 2.670e+02, ..., 5.540e+02, 8.270e+02,\n",
       "         1.431e+03],\n",
       "        [1.130e+02, 2.460e+02, 2.740e+02, ..., 5.680e+02, 8.040e+02,\n",
       "         1.215e+03],\n",
       "        ...,\n",
       "        [7.500e+01, 1.270e+02, 1.300e+02, ..., 3.470e+02, 4.870e+02,\n",
       "         1.622e+03],\n",
       "        [1.000e+00, 0.000e+00, 0.000e+00, ..., 0.000e+00, 1.000e+00,\n",
       "         5.061e+03],\n",
       "        [1.000e+00, 0.000e+00, 0.000e+00, ..., 0.000e+00, 0.000e+00,\n",
       "         5.062e+03]], shape=(5063, 10)),\n",
       " array([2.40695430e-04, 1.57296285e-01, 3.14351857e-01, 4.71407443e-01,\n",
       "        6.28463030e-01, 7.85518646e-01, 9.42574203e-01, 1.09962976e+00,\n",
       "        1.25668538e+00, 1.41374099e+00, 1.57079661e+00]),\n",
       " <a list of 5063 BarContainer objects>)"
      ]
     },
     "execution_count": 27,
     "metadata": {},
     "output_type": "execute_result"
    },
    {
     "data": {
      "image/png": "[encoded data removed]",
      "text/plain": [
       "<Figure size 640x480 with 1 Axes>"
      ]
     },
     "metadata": {},
     "output_type": "display_data"
    }
   ],
   "source": [
    "plt.hist(theta)"
   ]
  }
 ],
 "metadata": {
  "kernelspec": {
   "display_name": "coarseGrain",
   "language": "python",
   "name": "python3"
  },
  "language_info": {
   "codemirror_mode": {
    "name": "ipython",
    "version": 3
   },
   "file_extension": ".py",
   "mimetype": "text/x-python",
   "name": "python",
   "nbconvert_exporter": "python",
   "pygments_lexer": "ipython3",
   "version": "3.10.18"
  }
 },
 "nbformat": 4,
 "nbformat_minor": 5
}
