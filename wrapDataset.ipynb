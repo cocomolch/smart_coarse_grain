{
 "cells": [
  {
   "cell_type": "code",
   "execution_count": 1,
   "id": "9bcc59d8",
   "metadata": {},
   "outputs": [],
   "source": [
    "\n",
    "\n",
    "import torch\n",
    "import torch.nn as nn\n",
    "import torch.optim as optim\n",
    "from torch.utils.data import Dataset, DataLoader\n",
    "import torchvision\n",
    "import torchvision.transforms as transforms\n",
    "from torchvision.datasets import ImageFolder\n",
    "\n",
    "class smartCoarseGrainDataset(Dataset):\n",
    "    def __init__(self, dataDir, transform=None):\n",
    "        self.data = ImageFolder(dataDir, transform=transform)\n",
    "        self.transform = transform\n",
    "\n",
    "    def __len__(self):\n",
    "        return len(self.data)\n",
    "\n",
    "    def __getitem__(self, idx):\n",
    "        x = self.data[idx]\n",
    "        return x\n",
    "    @property\n",
    "    def classes(self):\n",
    "        return self.data.classes\n",
    "    \n"
   ]
  },
  {
   "cell_type": "code",
   "execution_count": null,
   "id": "0fe21c11",
   "metadata": {},
   "outputs": [],
   "source": [
    "currentTransforms = transforms.Compose([transforms.ToTensor()])\n",
    "data = smartCoarseGrainDataset(dataDir = r\"C:\\Users\\pgott\\Desktop\\Coding\\Dataset\\\\\", transform=currentTransforms)\n",
    "\n",
    "\n",
    "dataLoader = DataLoader(data, batch_size=1, shuffle=True, num_workers=0)\n"
   ]
  },
  {
   "cell_type": "code",
   "execution_count": 3,
   "id": "60b890cf",
   "metadata": {},
   "outputs": [],
   "source": [
    "import torch.nn as nn\n",
    "import torch.nn.functional as F\n",
    "\n",
    "\n",
    "class Net(nn.Module):\n",
    "    def __init__(self, upscale_factor=2):\n",
    "        super(Net, self).__init__()\n",
    "        self.conv1 = nn.Conv2d(1, 64, (5, 5), (1, 1), (2, 2))\n",
    "        self.conv2 = nn.Conv2d(64, 32, (3, 3), (1, 1), (1, 1))\n",
    "        self.conv3 = nn.Conv2d(32, 1 * (upscale_factor ** 2), (3, 3), (1, 1), (1, 1))\n",
    "        self.pixel_shuffle = nn.PixelShuffle(upscale_factor)\n",
    "\n",
    "    def forward(self, x):\n",
    "        x = F.tanh(self.conv1(x))\n",
    "        x = F.tanh(self.conv2(x))\n",
    "        x = F.sigmoid(self.pixel_shuffle(self.conv3(x)))\n",
    "        return x\n"
   ]
  },
  {
   "cell_type": "code",
   "execution_count": 5,
   "id": "f6423744",
   "metadata": {},
   "outputs": [],
   "source": [
    "upscaleModel = Net(upscale_factor=2)\n",
    "\n",
    "for images, labels in dataLoader:\n",
    "    break\n",
    "\n",
    "forwardOut = upscaleModel(torch.mean(images, dim=1, keepdim=False))\n"
   ]
  },
  {
   "cell_type": "code",
   "execution_count": 9,
   "id": "b92200cd",
   "metadata": {},
   "outputs": [
    {
     "name": "stdout",
     "output_type": "stream",
     "text": [
      "tensor([[[0.5126, 0.5122, 0.5051,  ..., 0.5066, 0.5043, 0.5016],\n",
      "         [0.4924, 0.4994, 0.4959,  ..., 0.4964, 0.5125, 0.5010],\n",
      "         [0.5140, 0.5086, 0.5035,  ..., 0.5077, 0.5045, 0.5031],\n",
      "         ...,\n",
      "         [0.4941, 0.5021, 0.4953,  ..., 0.5005, 0.5101, 0.5034],\n",
      "         [0.5173, 0.5035, 0.5078,  ..., 0.5097, 0.5106, 0.5074],\n",
      "         [0.5036, 0.5075, 0.5020,  ..., 0.5035, 0.5033, 0.5040]]],\n",
      "       grad_fn=<SigmoidBackward0>)\n",
      "torch.Size([1, 3, 1010, 1010])\n"
     ]
    }
   ],
   "source": [
    "print(forwardOut)\n",
    "print(images.shape)"
   ]
  },
  {
   "cell_type": "code",
   "execution_count": 13,
   "id": "4d6172d6",
   "metadata": {},
   "outputs": [
    {
     "name": "stdout",
     "output_type": "stream",
     "text": [
      "tensor([1])\n"
     ]
    }
   ],
   "source": [
    "print(labels)"
   ]
  },
  {
   "cell_type": "markdown",
   "id": "d1be8ddf",
   "metadata": {},
   "source": [
    "training loop"
   ]
  },
  {
   "cell_type": "code",
   "execution_count": null,
   "id": "03f2a669",
   "metadata": {},
   "outputs": [
    {
     "name": "stderr",
     "output_type": "stream",
     "text": [
      "c:\\Users\\pgott\\miniconda3\\envs\\coarseGrain\\lib\\site-packages\\torch\\nn\\modules\\loss.py:536: UserWarning: Using a target size (torch.Size([1])) that is different to the input size (torch.Size([1, 3, 1010, 1010])). This will likely lead to incorrect results due to broadcasting. Please ensure they have the same size.\n",
      "  return F.mse_loss(input, target, reduction=self.reduction)\n"
     ]
    },
    {
     "data": {
      "text/plain": [
       "tensor(0.9966)"
      ]
     },
     "execution_count": 12,
     "metadata": {},
     "output_type": "execute_result"
    }
   ],
   "source": [
    "loss = nn.MSELoss()\n",
    "optimizer = optim.Adam(upscaleModel.parameters(), lr=0.001)\n",
    "\n",
    "train_loss, val_loss = [], []\n",
    "num_epoch = 10\n",
    "\n",
    "\n",
    "# Pick GPU if available, else CPU\n",
    "device = torch.device(\"cuda\" if torch.cuda.is_available() else \"cpu\")\n",
    "# Move your model to the device\n",
    "upscaleModel = upscaleModel.to(device)\n",
    "\n",
    "\n",
    "for epoch in range(num_epoch):\n",
    "    upscaleModel.train()\n",
    "\n",
    "    for images, labels in dataLoader:\n",
    "        optimizer.zero_grad()\n",
    "        forwardOut = upscaleModel(images.to(device))\n",
    "\n",
    "        MSE = loss(forwardOut, images.to(device))"
   ]
  }
 ],
 "metadata": {
  "kernelspec": {
   "display_name": "coarseGrain",
   "language": "python",
   "name": "python3"
  },
  "language_info": {
   "codemirror_mode": {
    "name": "ipython",
    "version": 3
   },
   "file_extension": ".py",
   "mimetype": "text/x-python",
   "name": "python",
   "nbconvert_exporter": "python",
   "pygments_lexer": "ipython3",
   "version": "3.10.18"
  }
 },
 "nbformat": 4,
 "nbformat_minor": 5
}
